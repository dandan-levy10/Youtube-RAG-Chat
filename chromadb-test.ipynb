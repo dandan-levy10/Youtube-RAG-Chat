{
 "cells": [
  {
   "cell_type": "code",
   "execution_count": 1,
   "id": "0cd96b66",
   "metadata": {},
   "outputs": [],
   "source": [
    "\n",
    "import chromadb\n",
    "from chromadb.utils import embedding_functions\n",
    "from langchain_community.document_loaders import PyPDFLoader \n",
    "from langchain_text_splitters import RecursiveCharacterTextSplitter\n"
   ]
  },
  {
   "cell_type": "code",
   "execution_count": 2,
   "id": "e32d7086",
   "metadata": {},
   "outputs": [],
   "source": [
    "file_path = \"data/laws_of_chess.pdf\"\n",
    "def load_and_split_doc(file_path):\n",
    "    loader=PyPDFLoader(file_path)\n",
    "    doc = loader.load()\n",
    "\n",
    "    text_splitter = RecursiveCharacterTextSplitter(\n",
    "    chunk_size = 2000,\n",
    "    chunk_overlap= 200,\n",
    "    length_function = len,\n",
    "    is_separator_regex=False\n",
    "    )\n",
    "    chunks = text_splitter.split_documents(doc)\n",
    "    print(\"# of docs: {0}\".format(len(chunks)))\n",
    "    print(\"Sample metadata: {0}\".format(chunks[0].metadata))\n",
    "    print(\"Sample content: {0}\".format(chunks[0].page_content))\n",
    "    return chunks\n",
    "\n"
   ]
  },
  {
   "cell_type": "code",
   "execution_count": 3,
   "id": "cfd565bf",
   "metadata": {},
   "outputs": [],
   "source": [
    "def get_ids(chunks):\n",
    "    ids = []\n",
    "    current_page = 0\n",
    "    count = 1\n",
    "    for chunk in chunks:\n",
    "        page = chunk.metadata.get(\"page\")\n",
    "        source = chunk.metadata.get(\"source\")\n",
    "        if page > current_page:\n",
    "            count = 1\n",
    "            current_page = page\n",
    "        ids.append(f\"{source}:{current_page}:{count}\")\n",
    "        count += 1\n",
    "    return ids"
   ]
  },
  {
   "cell_type": "code",
   "execution_count": 4,
   "id": "cfdc2fc6",
   "metadata": {},
   "outputs": [
    {
     "name": "stdout",
     "output_type": "stream",
     "text": [
      "# of docs: 43\n",
      "Sample metadata: {'producer': 'Adobe PDF Library 9.0', 'creator': 'Acrobat PDFMaker 9.1 for Word', 'creationdate': '2009-07-10T14:50:44+04:00', 'author': 'INTERUNFALL Versicherung AG', 'company': '', 'keywords': '', 'moddate': '2009-07-10T14:51:13+04:00', 'sourcemodified': 'D:20090710105007', 'subject': '', 'title': 'E', 'source': 'data/laws_of_chess.pdf', 'total_pages': 25, 'page': 0, 'page_label': '1'}\n",
      "Sample content: 1 \n",
      "E.I.01 \n",
      " \n",
      "FIDE LAWS of CHESS \n",
      " \n",
      "Contents: \n",
      " \n",
      " PREFACE page 2 \n",
      " \n",
      " BASIC RULES OF PLAY \n",
      " \n",
      "Article 1: The nature and objectives of the game of chess page 2 \n",
      " \n",
      "Article 2: The initial position of the pieces on the chessboard page 3 \n",
      " \n",
      "Article 3: The moves of the pieces page 4 \n",
      " \n",
      "Article 4: The act of moving the pieces page 7 \n",
      " \n",
      "Article 5: The completion of the game page 8 \n",
      " \n",
      " COMPETITION RULES \n",
      " \n",
      "Article 6: The chess clock page 9 \n",
      " \n",
      "Article 7: Irregularities page 11 \n",
      " \n",
      "Article 8: The recording of the moves page 11 \n",
      " \n",
      "Article 9: The drawn game page 12 \n",
      " \n",
      "Article 10: Quickplay finish page 13 \n",
      " \n",
      "Article 11: Points page 14 \n",
      " \n",
      "Article 12: The conduct of the players page 14 \n",
      " \n",
      "Article 13: The role of the arbiter (see Preface) page 15 \n",
      " \n",
      "Article 14: FIDE page 16 \n",
      " \n",
      "Appendices: \n",
      " \n",
      "A. Rapidplay page 17 \n",
      " \n",
      "B. Blitz page 17 \n",
      " \n",
      "C. Algebraic notation page 18 \n",
      " \n",
      "D. Quickplay finishes where no arbiter is present in the venue page 20 \n",
      " \n",
      "E. Rules for play with Blind and Visually Handicapped page 20 \n",
      " \n",
      "F. Chess960 rules page 22 \n",
      " \n",
      "Guidelines in case a game needs to be adjourned page 24\n",
      "ids: ['data/laws_of_chess.pdf:0:1', 'data/laws_of_chess.pdf:1:1', 'data/laws_of_chess.pdf:1:2', 'data/laws_of_chess.pdf:2:1', 'data/laws_of_chess.pdf:3:1', 'data/laws_of_chess.pdf:4:1', 'data/laws_of_chess.pdf:5:1', 'data/laws_of_chess.pdf:6:1', 'data/laws_of_chess.pdf:6:2', 'data/laws_of_chess.pdf:7:1', 'data/laws_of_chess.pdf:7:2', 'data/laws_of_chess.pdf:8:1', 'data/laws_of_chess.pdf:8:2', 'data/laws_of_chess.pdf:9:1', 'data/laws_of_chess.pdf:9:2', 'data/laws_of_chess.pdf:10:1', 'data/laws_of_chess.pdf:10:2', 'data/laws_of_chess.pdf:11:1', 'data/laws_of_chess.pdf:11:2', 'data/laws_of_chess.pdf:12:1', 'data/laws_of_chess.pdf:12:2', 'data/laws_of_chess.pdf:13:1', 'data/laws_of_chess.pdf:13:2', 'data/laws_of_chess.pdf:14:1', 'data/laws_of_chess.pdf:14:2', 'data/laws_of_chess.pdf:15:1', 'data/laws_of_chess.pdf:16:1', 'data/laws_of_chess.pdf:16:2', 'data/laws_of_chess.pdf:17:1', 'data/laws_of_chess.pdf:17:2', 'data/laws_of_chess.pdf:18:1', 'data/laws_of_chess.pdf:18:2', 'data/laws_of_chess.pdf:19:1', 'data/laws_of_chess.pdf:19:2', 'data/laws_of_chess.pdf:20:1', 'data/laws_of_chess.pdf:20:2', 'data/laws_of_chess.pdf:21:1', 'data/laws_of_chess.pdf:21:2', 'data/laws_of_chess.pdf:22:1', 'data/laws_of_chess.pdf:23:1', 'data/laws_of_chess.pdf:23:2', 'data/laws_of_chess.pdf:24:1', 'data/laws_of_chess.pdf:24:2']\n"
     ]
    }
   ],
   "source": [
    "chunks = load_and_split_doc(file_path=file_path)\n",
    "ids = get_ids(chunks)\n",
    "print(f\"ids: {ids}\")"
   ]
  },
  {
   "cell_type": "code",
   "execution_count": 5,
   "id": "be2d8a44",
   "metadata": {},
   "outputs": [],
   "source": [
    "# initialise chromadb\n",
    "client = chromadb.Client()\n",
    "\n",
    "# initalise embedding function\n",
    "embedding_function = embedding_functions.SentenceTransformerEmbeddingFunction(\n",
    "    model_name=\"all-mpnet-base-v2\"\n",
    ")\n",
    "\n",
    "# create in-memory collection\n",
    "collection = client.create_collection(name=\"chess_collection\")\n"
   ]
  },
  {
   "cell_type": "code",
   "execution_count": 6,
   "id": "d99b3ba0",
   "metadata": {},
   "outputs": [],
   "source": [
    "# insert / update chunks in db\n",
    "collection.upsert(\n",
    "    documents=[chunk.page_content for chunk in chunks],\n",
    "    ids=ids)\n"
   ]
  },
  {
   "cell_type": "code",
   "execution_count": 22,
   "id": "e1864a95",
   "metadata": {},
   "outputs": [
    {
     "name": "stdout",
     "output_type": "stream",
     "text": [
      "------------------------------------------------------------------------\n",
      "result id: data/laws_of_chess.pdf:17:2 ; distance: 1.0920754671096802\n",
      "content: C.6 The eight ranks (from bottom to top for White and from top to bottom for Black) are \n",
      "numbered 1, 2, 3, 4, 5, 6, 7, 8, respectively. Consequently, in the initial position the white \n",
      "pieces and pawns are placed on the first and second ranks; the black pieces and pawns on \n",
      "the eighth and seventh ranks. \n",
      " \n",
      "C.7 As a consequence of the previous rules, each of the sixty -four squares is invariably indicated \n",
      "by a unique combination of a letter and a number.\n",
      "------------------------------------------------------------------------\n",
      "result id: data/laws_of_chess.pdf:2:1 ; distance: 1.1138403415679932\n",
      "content: 3 \n",
      "Article 2: The initial position of the pieces on the chessboard \n",
      " \n",
      "2.1 The chessboard is composed of an 8 x 8 grid of 64 equal squares alternately light (the \n",
      "‘white’ squares) and dark (the ‘black’ squares). \n",
      "The chessboard is placed between the players in such a way that the near corner square \n",
      "to the right of the player is white. \n",
      " \n",
      "2.2 At the beginning of the game one player has 16 light -coloured pieces (the ‘white’ pieces); \n",
      "the other has 16 dark-coloured pieces (the ‘black’ pieces). \n",
      " \n",
      "These pieces are as follows: \n",
      "A white king usually indicated by the symbol \n",
      "  \n",
      "A white queen usually indicated by the symbol \n",
      "  \n",
      "Two white rooks usually indicated by the symbol \n",
      "  \n",
      "Two white bishops usually indicated by the symbol \n",
      "  \n",
      "Two white knights usually indicated by the symbol \n",
      "  \n",
      "Eight white pawns usually indicated by the symbol \n",
      "  \n",
      "A black king usually indicated by the symbol \n",
      "  \n",
      "A black queen usually indicated by the symbol \n",
      "  \n",
      "Two black rooks usually indicated by the symbol \n",
      "  \n",
      "Two black bishops usually indicated by the symbol \n",
      "  \n",
      "Two black knights usually indicated by the symbol \n",
      "  \n",
      "Eight black pawns usually indicated by the symbol \n",
      "  \n",
      " \n",
      "2.3 The initial position of the pieces on the chessboard is as follows: \n",
      " \n",
      " \n",
      " \n",
      "2.4 The eight vertical columns of squares are called ‘files’ . The eight horizon tal rows of \n",
      "squares are called ‘ranks’. A straight line of squares of the same colour, running from one  \n",
      "edge of the board to an adjacent edge, is called a ‘diagonal’.\n"
     ]
    }
   ],
   "source": [
    "# query the db\n",
    "results = collection.query(\n",
    "    query_texts= \"how many pieces does each player start with?\",\n",
    "    n_results=2\n",
    ")\n",
    "# print(results)\n",
    "# print(len(results))\n",
    "for i in range(len(results['ids'][0])):\n",
    "    print(f\"\"\"------------------------------------------------------------------------\n",
    "result id: {results['ids'][0][i]} ; distance: {results['distances'][0][i]}\n",
    "content: {results['documents'][0][i]}\"\"\")\n"
   ]
  },
  {
   "cell_type": "code",
   "execution_count": 8,
   "id": "57c09772",
   "metadata": {},
   "outputs": [],
   "source": [
    "# load doc\n",
    "\n",
    "\n",
    "def load_and_split_doc(file_path):\n",
    "    loader= PyPDFLoader(file_path)\n",
    "    text = \"\"\n",
    "\n",
    "    for page in loader.lazy_load():\n",
    "        text += page.page_content\n",
    "    return text"
   ]
  },
  {
   "cell_type": "code",
   "execution_count": 9,
   "id": "ac797590",
   "metadata": {},
   "outputs": [
    {
     "ename": "NameError",
     "evalue": "name 'load_doc' is not defined",
     "output_type": "error",
     "traceback": [
      "\u001b[31m---------------------------------------------------------------------------\u001b[39m",
      "\u001b[31mNameError\u001b[39m                                 Traceback (most recent call last)",
      "\u001b[36mCell\u001b[39m\u001b[36m \u001b[39m\u001b[32mIn[9]\u001b[39m\u001b[32m, line 2\u001b[39m\n\u001b[32m      1\u001b[39m file_path = \u001b[33m\"\u001b[39m\u001b[33mdata/laws_of_chess.pdf\u001b[39m\u001b[33m\"\u001b[39m\n\u001b[32m----> \u001b[39m\u001b[32m2\u001b[39m text = \u001b[43mload_doc\u001b[49m(file_path)\n\u001b[32m      3\u001b[39m \u001b[38;5;28mprint\u001b[39m(text)\n",
      "\u001b[31mNameError\u001b[39m: name 'load_doc' is not defined"
     ]
    }
   ],
   "source": [
    "file_path = \"data/laws_of_chess.pdf\"\n",
    "text = load_doc(file_path)\n",
    "print(text)"
   ]
  },
  {
   "cell_type": "code",
   "execution_count": null,
   "id": "c99b1e8f",
   "metadata": {},
   "outputs": [],
   "source": []
  },
  {
   "cell_type": "code",
   "execution_count": null,
   "id": "d50d89c3",
   "metadata": {},
   "outputs": [],
   "source": [
    "# instantiate in-memory client\n",
    "chroma_client = chromadb.Client()"
   ]
  },
  {
   "cell_type": "code",
   "execution_count": null,
   "id": "fb16e6b8",
   "metadata": {},
   "outputs": [],
   "source": [
    "docs = [\n",
    "        \"harley davidson\",\n",
    "        \"tesla\",\n",
    "        \"boeing\",\n",
    "        \"suzuki\",\n",
    "        \"ford\",\n",
    "        \"triumph\",\n",
    "        \"indian\", \n",
    "        \"harley\",\n",
    "        \"davidson\",\n",
    "        \"kawasaki\"\n",
    "    ]\n",
    "\n",
    "collection.upsert(\n",
    "    documents= docs,\n",
    "    ids= [str(x + 1) for x in range(len(docs))]\n",
    "    # [\"id1\", \"id2\", \"id3\", \"id4\", \"id5\", \"id6\", \"id7\"]\n",
    ")"
   ]
  },
  {
   "cell_type": "code",
   "execution_count": null,
   "id": "01ace8d6",
   "metadata": {},
   "outputs": [
    {
     "name": "stdout",
     "output_type": "stream",
     "text": [
      "{'ids': [['1', '5', '2', '8', '3', '4', '9', '10', '6', '7']], 'embeddings': None, 'documents': [['harley davidson', 'ford', 'tesla', 'harley', 'boeing', 'suzuki', 'davidson', 'kawasaki', 'triumph', 'indian']], 'uris': None, 'included': ['metadatas', 'documents', 'distances'], 'data': None, 'metadatas': [[None, None, None, None, None, None, None, None, None, None]], 'distances': [[0.8810828328132629, 0.9143844842910767, 1.1023205518722534, 1.2331926822662354, 1.2681713104248047, 1.319493293762207, 1.354628562927246, 1.4447104930877686, 1.492676854133606, 1.5280427932739258]]}\n"
     ]
    }
   ],
   "source": [
    "results = collection.query(\n",
    "    query_texts= [\"truck\"],\n",
    "    # n_results=2\n",
    ")\n",
    "\n",
    "print(results)"
   ]
  },
  {
   "cell_type": "code",
   "execution_count": null,
   "id": "72f5513e",
   "metadata": {},
   "outputs": [],
   "source": []
  },
  {
   "cell_type": "code",
   "execution_count": null,
   "id": "0cdc465c",
   "metadata": {},
   "outputs": [],
   "source": []
  },
  {
   "cell_type": "code",
   "execution_count": null,
   "id": "15b93d85",
   "metadata": {},
   "outputs": [],
   "source": []
  },
  {
   "cell_type": "code",
   "execution_count": null,
   "id": "d944328b",
   "metadata": {},
   "outputs": [],
   "source": []
  }
 ],
 "metadata": {
  "kernelspec": {
   "display_name": "chromadb-test",
   "language": "python",
   "name": "python3"
  },
  "language_info": {
   "codemirror_mode": {
    "name": "ipython",
    "version": 3
   },
   "file_extension": ".py",
   "mimetype": "text/x-python",
   "name": "python",
   "nbconvert_exporter": "python",
   "pygments_lexer": "ipython3",
   "version": "3.13.3"
  }
 },
 "nbformat": 4,
 "nbformat_minor": 5
}
